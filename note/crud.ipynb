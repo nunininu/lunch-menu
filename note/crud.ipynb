{
 "cells": [
  {
   "cell_type": "code",
   "execution_count": 2,
   "id": "f507860f-8943-4111-b74a-8e13ec85c1aa",
   "metadata": {},
   "outputs": [],
   "source": [
    "import psycopg"
   ]
  },
  {
   "cell_type": "code",
   "execution_count": 51,
   "id": "181fa611-8507-49b7-8303-dc9b9ed0e8d0",
   "metadata": {},
   "outputs": [],
   "source": [
    "#  history | grep docker | grep run\n",
    "DB_CONFIG = {\n",
    "    \"user\": \"sunsin\",\n",
    "    \"dbname\": \"sunsindb\",\n",
    "    \"password\": \"mysecretpassword\",\n",
    "    \"host\": \"localhost\",\n",
    "    \"port\": \"5432\"\n",
    "}"
   ]
  },
  {
   "cell_type": "code",
   "execution_count": 52,
   "id": "ea317e15-5078-43e9-a225-d8e836e44a2e",
   "metadata": {},
   "outputs": [
    {
     "data": {
      "text/plain": [
       "<psycopg.Connection [IDLE] (host=localhost user=sunsin database=sunsindb) at 0x7fa0b19fef80>"
      ]
     },
     "execution_count": 52,
     "metadata": {},
     "output_type": "execute_result"
    }
   ],
   "source": [
    "psycopg.connect(**DB_CONFIG)"
   ]
  },
  {
   "cell_type": "code",
   "execution_count": 41,
   "id": "e8e25f96-cbaf-4407-940d-9526a6c830b1",
   "metadata": {},
   "outputs": [
    {
     "data": {
      "text/plain": [
       "<psycopg.Connection [IDLE] (host=localhost user=sunsin database=sunsindb) at 0x7fa0b1169a20>"
      ]
     },
     "execution_count": 41,
     "metadata": {},
     "output_type": "execute_result"
    }
   ],
   "source": [
    "psycopg.connect(dbname=\"sunsindb\", \n",
    "                user=\"sunsin\", \n",
    "                password=\"mysecretpassword\",\n",
    "                host=\"localhost\",\n",
    "                port=\"5432)"
   ]
  },
  {
   "cell_type": "code",
   "execution_count": 42,
   "id": "8a7f81d2-d5dc-482a-ab6b-917bfc86a767",
   "metadata": {},
   "outputs": [],
   "source": [
    "def get_connection():\n",
    "    return psycopg.connect(**DB_CONFIG)"
   ]
  },
  {
   "cell_type": "code",
   "execution_count": 43,
   "id": "b5ccc5b9-10c9-4c88-9557-ffc52b0d905d",
   "metadata": {},
   "outputs": [],
   "source": [
    "conn = get_connection()"
   ]
  },
  {
   "cell_type": "code",
   "execution_count": 44,
   "id": "c953c8f5-5dd0-4adf-9827-54f45e8aed84",
   "metadata": {},
   "outputs": [],
   "source": [
    "cursor = conn.cursor()"
   ]
  },
  {
   "cell_type": "code",
   "execution_count": 45,
   "id": "e19783d3-a975-49d2-9087-366df26e3ce0",
   "metadata": {},
   "outputs": [
    {
     "data": {
      "text/plain": [
       "<psycopg.Cursor [COMMAND_OK] [INTRANS] (host=localhost user=sunsin database=sunsindb) at 0x7fa0b0de6980>"
      ]
     },
     "execution_count": 45,
     "metadata": {},
     "output_type": "execute_result"
    }
   ],
   "source": [
    "cursor.execute(\n",
    "    \"INSERT INTO lunch_menu (menu_name, member_name, dt) VALUES (%s, %s, %s);\",\n",
    "    ('테스트음식', '테스트맴버','2000-11-11')\n",
    ")"
   ]
  },
  {
   "cell_type": "code",
   "execution_count": 75,
   "id": "4f03cb59-2585-4a95-93c6-47d5e58ed560",
   "metadata": {},
   "outputs": [],
   "source": [
    "conn.commit()"
   ]
  },
  {
   "cell_type": "code",
   "execution_count": 40,
   "id": "cd346e9d-cf4d-4bb6-824e-f9594cb1d56b",
   "metadata": {},
   "outputs": [],
   "source": [
    "cursor.close()"
   ]
  },
  {
   "cell_type": "markdown",
   "id": "054bfa20-915a-455a-9b60-6d3fe55dba35",
   "metadata": {},
   "source": [
    "# 디비 조회"
   ]
  },
  {
   "cell_type": "code",
   "execution_count": 54,
   "id": "b0ee7e96-5224-4756-aaa7-f6275be219b7",
   "metadata": {},
   "outputs": [],
   "source": [
    "conn = get_connection()"
   ]
  },
  {
   "cell_type": "code",
   "execution_count": 55,
   "id": "8aa9f80f-fc2c-4547-8296-b6a83c327b3d",
   "metadata": {},
   "outputs": [],
   "source": [
    "cursor = conn.cursor()"
   ]
  },
  {
   "cell_type": "code",
   "execution_count": 92,
   "id": "a1b15a52-8f55-4fd2-aa8f-e86ab2b37aea",
   "metadata": {},
   "outputs": [
    {
     "data": {
      "text/plain": [
       "<psycopg.Cursor [TUPLES_OK] [INTRANS] (host=localhost user=sunsin database=sunsindb) at 0x7fa0b0dff110>"
      ]
     },
     "execution_count": 92,
     "metadata": {},
     "output_type": "execute_result"
    }
   ],
   "source": [
    "cursor.execute(\"SELECT menu_name, member_name, dt FROM lunch_menu ORDER BY dt DESC\")"
   ]
  },
  {
   "cell_type": "code",
   "execution_count": 93,
   "id": "76bf3223-f1b3-4a22-9967-1e9d612493fb",
   "metadata": {},
   "outputs": [],
   "source": [
    "rows = cursor.fetchall()"
   ]
  },
  {
   "cell_type": "code",
   "execution_count": 94,
   "id": "62962f13-4d0f-4b85-897d-658f13383ea9",
   "metadata": {},
   "outputs": [
    {
     "data": {
      "text/plain": [
       "list"
      ]
     },
     "execution_count": 94,
     "metadata": {},
     "output_type": "execute_result"
    }
   ],
   "source": [
    "type(rows)"
   ]
  },
  {
   "cell_type": "code",
   "execution_count": 95,
   "id": "1a3d1263-6ed2-444e-b451-09258452251b",
   "metadata": {},
   "outputs": [
    {
     "data": {
      "text/plain": [
       "[('테스트음식', '테스트맴버', datetime.date(2000, 11, 11)),\n",
       " ('테스트음식', '테스트맴버', datetime.date(2000, 11, 11)),\n",
       " ('테스트음식', '테스트맴버', datetime.date(2000, 11, 11)),\n",
       " ('테스트음식', '테스트맴버', datetime.date(2000, 11, 11)),\n",
       " ('테스트음식', '테스트맴버', datetime.date(2000, 11, 11))]"
      ]
     },
     "execution_count": 95,
     "metadata": {},
     "output_type": "execute_result"
    }
   ],
   "source": [
    "rows"
   ]
  },
  {
   "cell_type": "code",
   "execution_count": 96,
   "id": "ba2b7313-6247-4571-b1b3-fa0e70715588",
   "metadata": {},
   "outputs": [],
   "source": [
    "columns_desc = cursor.description"
   ]
  },
  {
   "cell_type": "code",
   "execution_count": 97,
   "id": "b80c6c67-a0fc-447d-bacf-d2abd9c83211",
   "metadata": {},
   "outputs": [
    {
     "data": {
      "text/plain": [
       "list"
      ]
     },
     "execution_count": 97,
     "metadata": {},
     "output_type": "execute_result"
    }
   ],
   "source": [
    "type(columns_desc)"
   ]
  },
  {
   "cell_type": "code",
   "execution_count": 98,
   "id": "2f6562f3-0c63-4d82-9d74-c0cfd94910c6",
   "metadata": {},
   "outputs": [
    {
     "data": {
      "text/plain": [
       "<Column 'menu_name', type: text (oid: 25)>"
      ]
     },
     "execution_count": 98,
     "metadata": {},
     "output_type": "execute_result"
    }
   ],
   "source": [
    "columns_desc[0]"
   ]
  },
  {
   "cell_type": "code",
   "execution_count": 99,
   "id": "e5642347-8a3f-403f-87b4-85b24a6a650a",
   "metadata": {},
   "outputs": [
    {
     "data": {
      "text/plain": [
       "'menu_name'"
      ]
     },
     "execution_count": 99,
     "metadata": {},
     "output_type": "execute_result"
    }
   ],
   "source": [
    "columns_desc[0][0]"
   ]
  },
  {
   "cell_type": "code",
   "execution_count": 100,
   "id": "2d29f3d4-623a-472c-a69e-67c62dacc69c",
   "metadata": {},
   "outputs": [],
   "source": [
    "# columns = [desc[0] for desc in cursor.description]\n",
    "\n",
    "columns = []\n",
    "for desc in cursor.description:\n",
    "    columns.append(desc[0])\n",
    "    "
   ]
  },
  {
   "cell_type": "code",
   "execution_count": 101,
   "id": "c63bb240-8e5c-4cb2-b75f-928ece8d1cc8",
   "metadata": {},
   "outputs": [
    {
     "data": {
      "text/plain": [
       "['menu_name', 'member_name', 'dt']"
      ]
     },
     "execution_count": 101,
     "metadata": {},
     "output_type": "execute_result"
    }
   ],
   "source": [
    "columns"
   ]
  },
  {
   "cell_type": "code",
   "execution_count": 102,
   "id": "47d7da28-2faf-485b-9928-7f7eeb2a500c",
   "metadata": {},
   "outputs": [
    {
     "name": "stdout",
     "output_type": "stream",
     "text": [
      "menu_name\n",
      "member_name\n",
      "dt\n"
     ]
    }
   ],
   "source": [
    "for desc in cursor.description:\n",
    "    print(desc[0])"
   ]
  },
  {
   "cell_type": "code",
   "execution_count": 103,
   "id": "0261d795-d212-4d31-8b19-a7824bf6b458",
   "metadata": {},
   "outputs": [],
   "source": [
    "import pandas as pd\n",
    "selected_df = pd.DataFrame(rows, columns=columns)"
   ]
  },
  {
   "cell_type": "code",
   "execution_count": 104,
   "id": "a7f0fc35-1c6f-4d4d-9d7f-517221326855",
   "metadata": {},
   "outputs": [
    {
     "data": {
      "text/html": [
       "<div>\n",
       "<style scoped>\n",
       "    .dataframe tbody tr th:only-of-type {\n",
       "        vertical-align: middle;\n",
       "    }\n",
       "\n",
       "    .dataframe tbody tr th {\n",
       "        vertical-align: top;\n",
       "    }\n",
       "\n",
       "    .dataframe thead th {\n",
       "        text-align: right;\n",
       "    }\n",
       "</style>\n",
       "<table border=\"1\" class=\"dataframe\">\n",
       "  <thead>\n",
       "    <tr style=\"text-align: right;\">\n",
       "      <th></th>\n",
       "      <th>menu_name</th>\n",
       "      <th>member_name</th>\n",
       "      <th>dt</th>\n",
       "    </tr>\n",
       "  </thead>\n",
       "  <tbody>\n",
       "    <tr>\n",
       "      <th>0</th>\n",
       "      <td>테스트음식</td>\n",
       "      <td>테스트맴버</td>\n",
       "      <td>2000-11-11</td>\n",
       "    </tr>\n",
       "    <tr>\n",
       "      <th>1</th>\n",
       "      <td>테스트음식</td>\n",
       "      <td>테스트맴버</td>\n",
       "      <td>2000-11-11</td>\n",
       "    </tr>\n",
       "    <tr>\n",
       "      <th>2</th>\n",
       "      <td>테스트음식</td>\n",
       "      <td>테스트맴버</td>\n",
       "      <td>2000-11-11</td>\n",
       "    </tr>\n",
       "    <tr>\n",
       "      <th>3</th>\n",
       "      <td>테스트음식</td>\n",
       "      <td>테스트맴버</td>\n",
       "      <td>2000-11-11</td>\n",
       "    </tr>\n",
       "    <tr>\n",
       "      <th>4</th>\n",
       "      <td>테스트음식</td>\n",
       "      <td>테스트맴버</td>\n",
       "      <td>2000-11-11</td>\n",
       "    </tr>\n",
       "  </tbody>\n",
       "</table>\n",
       "</div>"
      ],
      "text/plain": [
       "  menu_name member_name          dt\n",
       "0     테스트음식       테스트맴버  2000-11-11\n",
       "1     테스트음식       테스트맴버  2000-11-11\n",
       "2     테스트음식       테스트맴버  2000-11-11\n",
       "3     테스트음식       테스트맴버  2000-11-11\n",
       "4     테스트음식       테스트맴버  2000-11-11"
      ]
     },
     "execution_count": 104,
     "metadata": {},
     "output_type": "execute_result"
    }
   ],
   "source": [
    "selected_df"
   ]
  },
  {
   "cell_type": "code",
   "execution_count": null,
   "id": "a64a67b2-2c0e-4424-94f6-818b68b3ebc7",
   "metadata": {},
   "outputs": [],
   "source": []
  }
 ],
 "metadata": {
  "kernelspec": {
   "display_name": "Python 3 (ipykernel)",
   "language": "python",
   "name": "python3"
  },
  "language_info": {
   "codemirror_mode": {
    "name": "ipython",
    "version": 3
   },
   "file_extension": ".py",
   "mimetype": "text/x-python",
   "name": "python",
   "nbconvert_exporter": "python",
   "pygments_lexer": "ipython3",
   "version": "3.10.12"
  }
 },
 "nbformat": 4,
 "nbformat_minor": 5
}
