{
 "cells": [
  {
   "cell_type": "code",
   "execution_count": 5,
   "id": "36c9b3f0-fc44-4692-8105-57e302fa1471",
   "metadata": {},
   "outputs": [],
   "source": [
    "import psycopg"
   ]
  },
  {
   "cell_type": "code",
   "execution_count": 7,
   "id": "4d4f6163-2e4b-48ff-92d5-1e0cb178e0e5",
   "metadata": {},
   "outputs": [],
   "source": [
    "# history | grep docker | grep run\n",
    "DB_CONFIG = {\n",
    "    \"dbname\": \"sunsindb\",\n",
    "    \"user\": \"sunsin\",\n",
    "    \"password\": \"mysecretpassword\",\n",
    "    \"host\": \"localhost\",\n",
    "    \"port\": \"5432\"\n",
    "}"
   ]
  },
  {
   "cell_type": "code",
   "execution_count": 8,
   "id": "e0b3e6d7-95c9-4c69-9666-daaf818c42dc",
   "metadata": {},
   "outputs": [],
   "source": [
    "def get_connection():\n",
    "    return psycopg.connect(**DB_CONFIG)  # 키워드매개변수 활용 https://wikidocs.net/24"
   ]
  },
  {
   "cell_type": "code",
   "execution_count": null,
   "id": "501c31d0-764b-4bd9-9c4b-e434b4d91c87",
   "metadata": {},
   "outputs": [],
   "source": []
  },
  {
   "cell_type": "code",
   "execution_count": 11,
   "id": "4e3ad707-7dcd-49cb-b358-f677c3bb510d",
   "metadata": {},
   "outputs": [
    {
     "data": {
      "text/plain": [
       "<psycopg.Connection [IDLE] (host=localhost user=sunsin database=sunsindb) at 0x7f99c0171ea0>"
      ]
     },
     "execution_count": 11,
     "metadata": {},
     "output_type": "execute_result"
    }
   ],
   "source": [
    "psycopg.connect(dbname=\"sunsindb\",\n",
    "                user=\"sunsin\",\n",
    "                password=\"mysecretpassword\",\n",
    "                host=\"localhost\",\n",
    "                port=\"5432\")"
   ]
  },
  {
   "cell_type": "code",
   "execution_count": null,
   "id": "5f63723c-5b6b-4c3f-adb5-a0fc28b28714",
   "metadata": {},
   "outputs": [],
   "source": []
  },
  {
   "cell_type": "code",
   "execution_count": 12,
   "id": "8bc89b91-9787-4987-8f33-69704d13e005",
   "metadata": {},
   "outputs": [],
   "source": [
    "def get_connection():\n",
    "    return psycopg.connect(**DB_CONFIG)  # 키워드매개변수 활용 https://wikidocs.net/24"
   ]
  },
  {
   "cell_type": "code",
   "execution_count": 27,
   "id": "1567994c-eb68-42d2-b4aa-d10d12af3557",
   "metadata": {},
   "outputs": [],
   "source": [
    "conn = get_connection()"
   ]
  },
  {
   "cell_type": "code",
   "execution_count": 28,
   "id": "6b33a056-679a-4802-a15a-e7d2d2d6f6e4",
   "metadata": {},
   "outputs": [],
   "source": [
    "cursor = conn.cursor()"
   ]
  },
  {
   "cell_type": "code",
   "execution_count": 29,
   "id": "44d8c8d2-ecbe-4ba6-9b8d-cfe76fd4783a",
   "metadata": {},
   "outputs": [
    {
     "data": {
      "text/plain": [
       "<psycopg.Cursor [COMMAND_OK] [INTRANS] (host=localhost user=sunsin database=sunsindb) at 0x7f99a9ff07d0>"
      ]
     },
     "execution_count": 29,
     "metadata": {},
     "output_type": "execute_result"
    }
   ],
   "source": [
    "cursor.execute(\n",
    "    \"INSERT INTO lunch_menu(menu_name, member_name, dt) VALUES (%s, %s, %s);\",\n",
    "    ('테스트음식', '테스트멤버', '2000-11-11')\n",
    ")"
   ]
  },
  {
   "cell_type": "code",
   "execution_count": 30,
   "id": "4db04b71-2d9f-48cd-a99c-9d6ce792e326",
   "metadata": {},
   "outputs": [],
   "source": [
    "conn.commit()"
   ]
  },
  {
   "cell_type": "code",
   "execution_count": 31,
   "id": "b7870db4-a02d-4317-ae41-ac678aa4f8a8",
   "metadata": {},
   "outputs": [],
   "source": [
    "cursor.close()"
   ]
  },
  {
   "cell_type": "code",
   "execution_count": null,
   "id": "eb9ce6e4-465a-4906-98fb-b18c1810c1ed",
   "metadata": {},
   "outputs": [],
   "source": []
  },
  {
   "cell_type": "code",
   "execution_count": null,
   "id": "aee9cd00-5df3-409d-80ae-ff92a32dd885",
   "metadata": {},
   "outputs": [],
   "source": []
  }
 ],
 "metadata": {
  "kernelspec": {
   "display_name": "Python 3 (ipykernel)",
   "language": "python",
   "name": "python3"
  },
  "language_info": {
   "codemirror_mode": {
    "name": "ipython",
    "version": 3
   },
   "file_extension": ".py",
   "mimetype": "text/x-python",
   "name": "python",
   "nbconvert_exporter": "python",
   "pygments_lexer": "ipython3",
   "version": "3.10.12"
  }
 },
 "nbformat": 4,
 "nbformat_minor": 5
}
