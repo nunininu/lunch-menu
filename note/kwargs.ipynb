{
 "cells": [
  {
   "cell_type": "code",
   "execution_count": 20,
   "id": "af5953c7-b59d-4de9-99e4-e9bca5d14c69",
   "metadata": {},
   "outputs": [],
   "source": [
    "def fun_args(*args):\n",
    "    print(f\"args...{type(args)}\")\n",
    "    for a in args:\n",
    "        print(a)"
   ]
  },
  {
   "cell_type": "code",
   "execution_count": 58,
   "id": "bca26e43-c4a9-4d45-a546-672ba50510a4",
   "metadata": {},
   "outputs": [
    {
     "name": "stdout",
     "output_type": "stream",
     "text": [
      "args...<class 'tuple'>\n",
      "1\n",
      "2\n",
      "3\n"
     ]
    }
   ],
   "source": [
    "fun_args(1,2,3)"
   ]
  },
  {
   "cell_type": "code",
   "execution_count": 30,
   "id": "33806fa9-7db1-4cae-9394-b13ff82643a3",
   "metadata": {},
   "outputs": [
    {
     "data": {
      "text/plain": [
       "dict_items([('name', 'pey'), ('phone', '010-9999-1234'), ('birth', '1118')])"
      ]
     },
     "execution_count": 30,
     "metadata": {},
     "output_type": "execute_result"
    }
   ],
   "source": [
    "a = {'name': 'pey', 'phone': '010-9999-1234', 'birth': '1118'}\n",
    "a.items()"
   ]
  },
  {
   "cell_type": "code",
   "execution_count": 51,
   "id": "5765af98-3d9b-4926-8eb4-4c74180ccfde",
   "metadata": {},
   "outputs": [],
   "source": [
    "def fun_kwargs(**kwargs):\n",
    "    print(f\"kwargs...{type(kwargs)}\")\n",
    "    for k, v in kwargs.items():\n",
    "        print(f\"key:{k} , value:{v}\")"
   ]
  },
  {
   "cell_type": "code",
   "execution_count": 52,
   "id": "9e9d3f4b-474e-4fcf-8606-a695cd8a0299",
   "metadata": {},
   "outputs": [
    {
     "name": "stdout",
     "output_type": "stream",
     "text": [
      "kwargs...<class 'dict'>\n"
     ]
    }
   ],
   "source": [
    "fun_kwargs()"
   ]
  },
  {
   "cell_type": "code",
   "execution_count": 53,
   "id": "af32f485-ba1f-4abb-9012-6f1297aa5636",
   "metadata": {},
   "outputs": [
    {
     "name": "stdout",
     "output_type": "stream",
     "text": [
      "kwargs...<class 'dict'>\n",
      "key:dbname , value:sunsindb\n",
      "key:user , value:sunsin\n",
      "key:abc , value:aaa\n"
     ]
    }
   ],
   "source": [
    "fun_kwargs(dbname=\"sunsindb\", user=\"sunsin\", abc=\"aaa\")"
   ]
  },
  {
   "cell_type": "code",
   "execution_count": 54,
   "id": "02af1e49-6f95-4749-ab3e-af2e20faa3ca",
   "metadata": {},
   "outputs": [],
   "source": [
    "DB_CONFIG = {\n",
    "    \"dbname\": \"sunsindb\",\n",
    "    \"user\": \"sunsin\",\n",
    "    \"password\": \"mysecretpassword\",\n",
    "    \"host\": \"localhost\",\n",
    "    \"port\": \"5432\"\n",
    "}"
   ]
  },
  {
   "cell_type": "code",
   "execution_count": 56,
   "id": "120ef50f-5632-46fb-92ef-ad3daa74713e",
   "metadata": {},
   "outputs": [
    {
     "name": "stdout",
     "output_type": "stream",
     "text": [
      "kwargs...<class 'dict'>\n",
      "key:dbname , value:sunsindb\n",
      "key:user , value:sunsin\n",
      "key:password , value:mysecretpassword\n",
      "key:host , value:localhost\n",
      "key:port , value:5432\n"
     ]
    }
   ],
   "source": [
    "fun_kwargs(**DB_CONFIG)"
   ]
  },
  {
   "cell_type": "code",
   "execution_count": 98,
   "id": "3b3142c9-0a2c-4d6c-8374-3a9b8fb9ec55",
   "metadata": {},
   "outputs": [],
   "source": [
    "def fun_jjamppong(name, *args, **kwargs):\n",
    "    print(f\"jjamppong...{type(name)},{type(args)}, {type(kwargs)}\")\n",
    "    # print name\n",
    "    # print args\n",
    "    # print kwargs"
   ]
  },
  {
   "cell_type": "code",
   "execution_count": 88,
   "id": "dc2cca75-bc7d-4f48-911f-04733a5ae468",
   "metadata": {},
   "outputs": [
    {
     "name": "stdout",
     "output_type": "stream",
     "text": [
      "jjamppong...<class 'int'>,<class 'tuple'>, <class 'dict'>\n"
     ]
    }
   ],
   "source": [
    "fun_jjamppong(1,\"A\",\"B\", menu=\"a\", food=\"b\")"
   ]
  },
  {
   "cell_type": "code",
   "execution_count": 95,
   "id": "e80754e5-cf5d-4cba-8f78-e6d2fbd8f497",
   "metadata": {},
   "outputs": [],
   "source": [
    "def fun_g(name, age=11):\n",
    "    print(name)\n",
    "    print(age)"
   ]
  },
  {
   "cell_type": "code",
   "execution_count": 92,
   "id": "5d382916-0bf5-416b-892a-8c95ea1ec0ce",
   "metadata": {},
   "outputs": [
    {
     "name": "stdout",
     "output_type": "stream",
     "text": [
      "kim\n",
      "11\n"
     ]
    }
   ],
   "source": [
    "fun_g('kim',11)"
   ]
  },
  {
   "cell_type": "code",
   "execution_count": 94,
   "id": "bfe0430b-bff0-46dd-a8d5-92ca6b0a71ac",
   "metadata": {},
   "outputs": [
    {
     "name": "stdout",
     "output_type": "stream",
     "text": [
      "kim\n",
      "11\n"
     ]
    }
   ],
   "source": [
    "fun_g(age=11, name='kim')"
   ]
  },
  {
   "cell_type": "code",
   "execution_count": 96,
   "id": "1511913c-4b51-4f8d-ad36-d78115b83514",
   "metadata": {},
   "outputs": [
    {
     "name": "stdout",
     "output_type": "stream",
     "text": [
      "kim\n",
      "11\n"
     ]
    }
   ],
   "source": [
    "fun_g(name='kim')"
   ]
  },
  {
   "cell_type": "code",
   "execution_count": 112,
   "id": "e17ee78b-d8c2-4002-bcfa-d51cc8b1ea2e",
   "metadata": {},
   "outputs": [],
   "source": [
    "def fff(name, port=5432):\n",
    "    print(name)\n",
    "    print(port)"
   ]
  },
  {
   "cell_type": "code",
   "execution_count": 120,
   "id": "f9917959-91bd-446c-aeec-1626084a6aa2",
   "metadata": {},
   "outputs": [],
   "source": [
    "a = {\"port\": 22, \"name\": \"kim\"}"
   ]
  },
  {
   "cell_type": "code",
   "execution_count": 121,
   "id": "db173f95-161a-4120-afb5-697cb7a86f2f",
   "metadata": {},
   "outputs": [
    {
     "name": "stdout",
     "output_type": "stream",
     "text": [
      "kim\n",
      "22\n"
     ]
    }
   ],
   "source": [
    "fff(**a)"
   ]
  },
  {
   "cell_type": "code",
   "execution_count": null,
   "id": "212dbfb4-c7a6-4926-b48a-66108ef81e8c",
   "metadata": {},
   "outputs": [],
   "source": []
  },
  {
   "cell_type": "code",
   "execution_count": null,
   "id": "e9cf5eff-dc5b-437a-8571-b3219354c166",
   "metadata": {},
   "outputs": [],
   "source": []
  }
 ],
 "metadata": {
  "kernelspec": {
   "display_name": "Python 3 (ipykernel)",
   "language": "python",
   "name": "python3"
  },
  "language_info": {
   "codemirror_mode": {
    "name": "ipython",
    "version": 3
   },
   "file_extension": ".py",
   "mimetype": "text/x-python",
   "name": "python",
   "nbconvert_exporter": "python",
   "pygments_lexer": "ipython3",
   "version": "3.10.12"
  }
 },
 "nbformat": 4,
 "nbformat_minor": 5
}
