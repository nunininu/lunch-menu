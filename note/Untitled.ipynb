{
 "cells": [
  {
   "cell_type": "code",
   "execution_count": 7,
   "id": "44e33eca-e183-4694-843a-5f27f468cb7a",
   "metadata": {},
   "outputs": [],
   "source": [
    "import pandas as pd"
   ]
  },
  {
   "cell_type": "code",
   "execution_count": 10,
   "id": "4891d73b-512f-424d-b24e-fafda81a9262",
   "metadata": {},
   "outputs": [],
   "source": [
    "df = pd.read_csv('note/lunch_menu.csv')"
   ]
  },
  {
   "cell_type": "code",
   "execution_count": 11,
   "id": "88006359-8c4c-49f8-a346-c9cc0fc272de",
   "metadata": {},
   "outputs": [
    {
     "data": {
      "text/html": [
       "<div>\n",
       "<style scoped>\n",
       "    .dataframe tbody tr th:only-of-type {\n",
       "        vertical-align: middle;\n",
       "    }\n",
       "\n",
       "    .dataframe tbody tr th {\n",
       "        vertical-align: top;\n",
       "    }\n",
       "\n",
       "    .dataframe thead th {\n",
       "        text-align: right;\n",
       "    }\n",
       "</style>\n",
       "<table border=\"1\" class=\"dataframe\">\n",
       "  <thead>\n",
       "    <tr style=\"text-align: right;\">\n",
       "      <th></th>\n",
       "      <th>ename</th>\n",
       "      <th>gmail</th>\n",
       "      <th>github</th>\n",
       "      <th>domain</th>\n",
       "      <th>vercel</th>\n",
       "      <th>role</th>\n",
       "      <th>2025-01-07</th>\n",
       "      <th>2025-01-08</th>\n",
       "      <th>2025-01-09</th>\n",
       "      <th>2025-01-10</th>\n",
       "      <th>...</th>\n",
       "      <th>2025-01-16</th>\n",
       "      <th>2025-01-17</th>\n",
       "      <th>2025-01-20</th>\n",
       "      <th>2025-01-21</th>\n",
       "      <th>2025-01-22</th>\n",
       "      <th>2025-01-23</th>\n",
       "      <th>2025-01-24</th>\n",
       "      <th>2025-02-03</th>\n",
       "      <th>2025-02-04</th>\n",
       "      <th>2025-02-05</th>\n",
       "    </tr>\n",
       "  </thead>\n",
       "  <tbody>\n",
       "    <tr>\n",
       "      <th>0</th>\n",
       "      <td>TOM</td>\n",
       "      <td>tom@diginori.com</td>\n",
       "      <td>ppabam</td>\n",
       "      <td>sunsin.shop</td>\n",
       "      <td>https://sunsin.vercel.app</td>\n",
       "      <td>PM</td>\n",
       "      <td>순대국</td>\n",
       "      <td>비지찌개</td>\n",
       "      <td>냉동김밥,컵라면</td>\n",
       "      <td>잔치국수</td>\n",
       "      <td>...</td>\n",
       "      <td>오징어 덮밥</td>\n",
       "      <td>짜장면</td>\n",
       "      <td>집밥 도시락</td>\n",
       "      <td>소고기무국</td>\n",
       "      <td>-</td>\n",
       "      <td>오징어덮밥</td>\n",
       "      <td>볶음밥</td>\n",
       "      <td>짜장면</td>\n",
       "      <td>-</td>\n",
       "      <td>-</td>\n",
       "    </tr>\n",
       "    <tr>\n",
       "      <th>1</th>\n",
       "      <td>cho</td>\n",
       "      <td>j01040864205@gmail.com</td>\n",
       "      <td>cho6019</td>\n",
       "      <td>cho6019.store</td>\n",
       "      <td>https://cho6019.vercel.app</td>\n",
       "      <td>행동강령 수립 위원회</td>\n",
       "      <td>닭개장</td>\n",
       "      <td>규동</td>\n",
       "      <td>얼큰 순대국밥</td>\n",
       "      <td>스파게티</td>\n",
       "      <td>...</td>\n",
       "      <td>간짜장</td>\n",
       "      <td>스파게티</td>\n",
       "      <td>버섯 비프 카레</td>\n",
       "      <td>스파게티</td>\n",
       "      <td>설렁탕</td>\n",
       "      <td>치킨마요덮밥</td>\n",
       "      <td>등심돈까스</td>\n",
       "      <td>치즈라면, 김밥</td>\n",
       "      <td>-</td>\n",
       "      <td>-</td>\n",
       "    </tr>\n",
       "  </tbody>\n",
       "</table>\n",
       "<p>2 rows × 23 columns</p>\n",
       "</div>"
      ],
      "text/plain": [
       "  ename                   gmail   github         domain  \\\n",
       "0   TOM        tom@diginori.com   ppabam    sunsin.shop   \n",
       "1   cho  j01040864205@gmail.com  cho6019  cho6019.store   \n",
       "\n",
       "                       vercel         role 2025-01-07 2025-01-08 2025-01-09  \\\n",
       "0   https://sunsin.vercel.app           PM        순대국       비지찌개   냉동김밥,컵라면   \n",
       "1  https://cho6019.vercel.app  행동강령 수립 위원회        닭개장         규동    얼큰 순대국밥   \n",
       "\n",
       "  2025-01-10  ... 2025-01-16 2025-01-17 2025-01-20 2025-01-21 2025-01-22  \\\n",
       "0       잔치국수  ...     오징어 덮밥        짜장면     집밥 도시락      소고기무국          -   \n",
       "1       스파게티  ...        간짜장       스파게티   버섯 비프 카레       스파게티        설렁탕   \n",
       "\n",
       "  2025-01-23 2025-01-24 2025-02-03 2025-02-04 2025-02-05  \n",
       "0      오징어덮밥        볶음밥        짜장면          -          -  \n",
       "1     치킨마요덮밥      등심돈까스   치즈라면, 김밥          -          -  \n",
       "\n",
       "[2 rows x 23 columns]"
      ]
     },
     "execution_count": 11,
     "metadata": {},
     "output_type": "execute_result"
    }
   ],
   "source": [
    "df.head(2)"
   ]
  },
  {
   "cell_type": "code",
   "execution_count": 16,
   "id": "9ef5d6b7-84c5-45dd-b912-1d2dc1ec9915",
   "metadata": {},
   "outputs": [
    {
     "data": {
      "text/plain": [
       "6"
      ]
     },
     "execution_count": 16,
     "metadata": {},
     "output_type": "execute_result"
    }
   ],
   "source": [
    "df.columns.get_loc('2025-01-07')"
   ]
  },
  {
   "cell_type": "code",
   "execution_count": 17,
   "id": "7f82c668-0296-40c2-b37e-ad5de7d50a21",
   "metadata": {},
   "outputs": [
    {
     "data": {
      "text/plain": [
       "Index(['2025-01-07', '2025-01-08', '2025-01-09', '2025-01-10', '2025-01-13',\n",
       "       '2025-01-14', '2025-01-15', '2025-01-16', '2025-01-17', '2025-01-20',\n",
       "       '2025-01-21', '2025-01-22', '2025-01-23', '2025-01-24', '2025-02-03',\n",
       "       '2025-02-04', '2025-02-05'],\n",
       "      dtype='object')"
      ]
     },
     "execution_count": 17,
     "metadata": {},
     "output_type": "execute_result"
    }
   ],
   "source": [
    "df.columns[6:]"
   ]
  },
  {
   "cell_type": "code",
   "execution_count": 18,
   "id": "37138d56-53a6-46ed-aa1e-419d7ea8620d",
   "metadata": {},
   "outputs": [
    {
     "name": "stdout",
     "output_type": "stream",
     "text": [
      "2025-01-07\n",
      "2025-01-08\n",
      "2025-01-09\n",
      "2025-01-10\n",
      "2025-01-13\n",
      "2025-01-14\n",
      "2025-01-15\n",
      "2025-01-16\n",
      "2025-01-17\n",
      "2025-01-20\n",
      "2025-01-21\n",
      "2025-01-22\n",
      "2025-01-23\n",
      "2025-01-24\n",
      "2025-02-03\n",
      "2025-02-04\n",
      "2025-02-05\n"
     ]
    }
   ],
   "source": [
    "for c in df.columns[6:]:\n",
    "    print(c)"
   ]
  },
  {
   "cell_type": "code",
   "execution_count": 20,
   "id": "89134f27-8fc7-4f8c-856a-fec5e55ec3de",
   "metadata": {},
   "outputs": [
    {
     "ename": "ValueError",
     "evalue": "Location based indexing can only have [integer, integer slice (START point is INCLUDED, END point is EXCLUDED), listlike of integers, boolean array] types",
     "output_type": "error",
     "traceback": [
      "\u001b[0;31m---------------------------------------------------------------------------\u001b[0m",
      "\u001b[0;31mValueError\u001b[0m                                Traceback (most recent call last)",
      "File \u001b[0;32m~/code/lunch-menu/.venv/lib/python3.10/site-packages/pandas/core/indexing.py:966\u001b[0m, in \u001b[0;36m_LocationIndexer._validate_tuple_indexer\u001b[0;34m(self, key)\u001b[0m\n\u001b[1;32m    965\u001b[0m \u001b[38;5;28;01mtry\u001b[39;00m:\n\u001b[0;32m--> 966\u001b[0m     \u001b[38;5;28;43mself\u001b[39;49m\u001b[38;5;241;43m.\u001b[39;49m\u001b[43m_validate_key\u001b[49m\u001b[43m(\u001b[49m\u001b[43mk\u001b[49m\u001b[43m,\u001b[49m\u001b[43m \u001b[49m\u001b[43mi\u001b[49m\u001b[43m)\u001b[49m\n\u001b[1;32m    967\u001b[0m \u001b[38;5;28;01mexcept\u001b[39;00m \u001b[38;5;167;01mValueError\u001b[39;00m \u001b[38;5;28;01mas\u001b[39;00m err:\n",
      "File \u001b[0;32m~/code/lunch-menu/.venv/lib/python3.10/site-packages/pandas/core/indexing.py:1614\u001b[0m, in \u001b[0;36m_iLocIndexer._validate_key\u001b[0;34m(self, key, axis)\u001b[0m\n\u001b[1;32m   1613\u001b[0m \u001b[38;5;28;01melse\u001b[39;00m:\n\u001b[0;32m-> 1614\u001b[0m     \u001b[38;5;28;01mraise\u001b[39;00m \u001b[38;5;167;01mValueError\u001b[39;00m(\u001b[38;5;124mf\u001b[39m\u001b[38;5;124m\"\u001b[39m\u001b[38;5;124mCan only index by location with a [\u001b[39m\u001b[38;5;132;01m{\u001b[39;00m\u001b[38;5;28mself\u001b[39m\u001b[38;5;241m.\u001b[39m_valid_types\u001b[38;5;132;01m}\u001b[39;00m\u001b[38;5;124m]\u001b[39m\u001b[38;5;124m\"\u001b[39m)\n",
      "\u001b[0;31mValueError\u001b[0m: Can only index by location with a [integer, integer slice (START point is INCLUDED, END point is EXCLUDED), listlike of integers, boolean array]",
      "\nThe above exception was the direct cause of the following exception:\n",
      "\u001b[0;31mValueError\u001b[0m                                Traceback (most recent call last)",
      "Cell \u001b[0;32mIn[20], line 1\u001b[0m\n\u001b[0;32m----> 1\u001b[0m \u001b[38;5;28mprint\u001b[39m(df\u001b[38;5;241m.\u001b[39miloc[\u001b[38;5;241m0\u001b[39m, \u001b[38;5;241m0\u001b[39m], df\u001b[38;5;241m.\u001b[39mcolumns[\u001b[38;5;241m6\u001b[39m], \u001b[43mdf\u001b[49m\u001b[38;5;241;43m.\u001b[39;49m\u001b[43miloc\u001b[49m\u001b[43m[\u001b[49m\u001b[38;5;241;43m0\u001b[39;49m\u001b[43m,\u001b[49m\u001b[43m \u001b[49m\u001b[43mdf\u001b[49m\u001b[38;5;241;43m.\u001b[39;49m\u001b[43mcolumns\u001b[49m\u001b[43m[\u001b[49m\u001b[38;5;241;43m6\u001b[39;49m\u001b[43m]\u001b[49m\u001b[43m]\u001b[49m)\n",
      "File \u001b[0;32m~/code/lunch-menu/.venv/lib/python3.10/site-packages/pandas/core/indexing.py:1184\u001b[0m, in \u001b[0;36m_LocationIndexer.__getitem__\u001b[0;34m(self, key)\u001b[0m\n\u001b[1;32m   1182\u001b[0m     \u001b[38;5;28;01mif\u001b[39;00m \u001b[38;5;28mself\u001b[39m\u001b[38;5;241m.\u001b[39m_is_scalar_access(key):\n\u001b[1;32m   1183\u001b[0m         \u001b[38;5;28;01mreturn\u001b[39;00m \u001b[38;5;28mself\u001b[39m\u001b[38;5;241m.\u001b[39mobj\u001b[38;5;241m.\u001b[39m_get_value(\u001b[38;5;241m*\u001b[39mkey, takeable\u001b[38;5;241m=\u001b[39m\u001b[38;5;28mself\u001b[39m\u001b[38;5;241m.\u001b[39m_takeable)\n\u001b[0;32m-> 1184\u001b[0m     \u001b[38;5;28;01mreturn\u001b[39;00m \u001b[38;5;28;43mself\u001b[39;49m\u001b[38;5;241;43m.\u001b[39;49m\u001b[43m_getitem_tuple\u001b[49m\u001b[43m(\u001b[49m\u001b[43mkey\u001b[49m\u001b[43m)\u001b[49m\n\u001b[1;32m   1185\u001b[0m \u001b[38;5;28;01melse\u001b[39;00m:\n\u001b[1;32m   1186\u001b[0m     \u001b[38;5;66;03m# we by definition only have the 0th axis\u001b[39;00m\n\u001b[1;32m   1187\u001b[0m     axis \u001b[38;5;241m=\u001b[39m \u001b[38;5;28mself\u001b[39m\u001b[38;5;241m.\u001b[39maxis \u001b[38;5;129;01mor\u001b[39;00m \u001b[38;5;241m0\u001b[39m\n",
      "File \u001b[0;32m~/code/lunch-menu/.venv/lib/python3.10/site-packages/pandas/core/indexing.py:1690\u001b[0m, in \u001b[0;36m_iLocIndexer._getitem_tuple\u001b[0;34m(self, tup)\u001b[0m\n\u001b[1;32m   1689\u001b[0m \u001b[38;5;28;01mdef\u001b[39;00m\u001b[38;5;250m \u001b[39m\u001b[38;5;21m_getitem_tuple\u001b[39m(\u001b[38;5;28mself\u001b[39m, tup: \u001b[38;5;28mtuple\u001b[39m):\n\u001b[0;32m-> 1690\u001b[0m     tup \u001b[38;5;241m=\u001b[39m \u001b[38;5;28;43mself\u001b[39;49m\u001b[38;5;241;43m.\u001b[39;49m\u001b[43m_validate_tuple_indexer\u001b[49m\u001b[43m(\u001b[49m\u001b[43mtup\u001b[49m\u001b[43m)\u001b[49m\n\u001b[1;32m   1691\u001b[0m     \u001b[38;5;28;01mwith\u001b[39;00m suppress(IndexingError):\n\u001b[1;32m   1692\u001b[0m         \u001b[38;5;28;01mreturn\u001b[39;00m \u001b[38;5;28mself\u001b[39m\u001b[38;5;241m.\u001b[39m_getitem_lowerdim(tup)\n",
      "File \u001b[0;32m~/code/lunch-menu/.venv/lib/python3.10/site-packages/pandas/core/indexing.py:968\u001b[0m, in \u001b[0;36m_LocationIndexer._validate_tuple_indexer\u001b[0;34m(self, key)\u001b[0m\n\u001b[1;32m    966\u001b[0m         \u001b[38;5;28mself\u001b[39m\u001b[38;5;241m.\u001b[39m_validate_key(k, i)\n\u001b[1;32m    967\u001b[0m     \u001b[38;5;28;01mexcept\u001b[39;00m \u001b[38;5;167;01mValueError\u001b[39;00m \u001b[38;5;28;01mas\u001b[39;00m err:\n\u001b[0;32m--> 968\u001b[0m         \u001b[38;5;28;01mraise\u001b[39;00m \u001b[38;5;167;01mValueError\u001b[39;00m(\n\u001b[1;32m    969\u001b[0m             \u001b[38;5;124m\"\u001b[39m\u001b[38;5;124mLocation based indexing can only have \u001b[39m\u001b[38;5;124m\"\u001b[39m\n\u001b[1;32m    970\u001b[0m             \u001b[38;5;124mf\u001b[39m\u001b[38;5;124m\"\u001b[39m\u001b[38;5;124m[\u001b[39m\u001b[38;5;132;01m{\u001b[39;00m\u001b[38;5;28mself\u001b[39m\u001b[38;5;241m.\u001b[39m_valid_types\u001b[38;5;132;01m}\u001b[39;00m\u001b[38;5;124m] types\u001b[39m\u001b[38;5;124m\"\u001b[39m\n\u001b[1;32m    971\u001b[0m         ) \u001b[38;5;28;01mfrom\u001b[39;00m\u001b[38;5;250m \u001b[39m\u001b[38;5;21;01merr\u001b[39;00m\n\u001b[1;32m    972\u001b[0m \u001b[38;5;28;01mreturn\u001b[39;00m key\n",
      "\u001b[0;31mValueError\u001b[0m: Location based indexing can only have [integer, integer slice (START point is INCLUDED, END point is EXCLUDED), listlike of integers, boolean array] types"
     ]
    }
   ],
   "source": [
    "print(df.iloc[0, 0], df.columns[6], df.iloc[0, df.columns[6]])"
   ]
  },
  {
   "cell_type": "code",
   "execution_count": 21,
   "id": "f5960def-20db-4210-92b3-2790c6d43e20",
   "metadata": {},
   "outputs": [
    {
     "name": "stdout",
     "output_type": "stream",
     "text": [
      "TOM\n"
     ]
    }
   ],
   "source": [
    "print(df.iloc[0, 0])"
   ]
  },
  {
   "cell_type": "raw",
   "id": "865b87eb-2036-4be8-ba94-3640e493eaec",
   "metadata": {},
   "source": [
    "print(df.columns[6])"
   ]
  },
  {
   "cell_type": "code",
   "execution_count": null,
   "id": "88687179-dd10-4417-b906-e19ca6de182b",
   "metadata": {},
   "outputs": [],
   "source": []
  }
 ],
 "metadata": {
  "kernelspec": {
   "display_name": "Python 3 (ipykernel)",
   "language": "python",
   "name": "python3"
  },
  "language_info": {
   "codemirror_mode": {
    "name": "ipython",
    "version": 3
   },
   "file_extension": ".py",
   "mimetype": "text/x-python",
   "name": "python",
   "nbconvert_exporter": "python",
   "pygments_lexer": "ipython3",
   "version": "3.10.12"
  }
 },
 "nbformat": 4,
 "nbformat_minor": 5
}
